{
 "cells": [
  {
   "cell_type": "markdown",
   "id": "3818e84c",
   "metadata": {},
   "source": [
    "# Analyze One Quantitative and One Qualitative Variable\n"
   ]
  },
  {
   "cell_type": "code",
   "execution_count": 1,
   "id": "32e8fd92",
   "metadata": {},
   "outputs": [],
   "source": [
    "import pandas as pd\n",
    "import matplotlib.pyplot as plt\n",
    "\n",
    "data = pd.read_csv(\"operations.csv\",parse_dates=[0])"
   ]
  },
  {
   "cell_type": "code",
   "execution_count": 2,
   "id": "38e5bd66",
   "metadata": {},
   "outputs": [],
   "source": [
    "X = \"categ\" # qualitative\n",
    "Y = \"amount\" # quantitative\n",
    "\n",
    "# Only expenses are retained\n",
    "sub_sample = data[data[\"amount\"] < 0].copy()\n",
    "# Expenses are converted to positive amounts\n",
    "sub_sample[\"amount\"] = -sub_sample[\"amount\"]\n",
    "# Rents are not included because too large:\n",
    "sub_sample = sub_sample[sub_sample[\"categ\"] != \"RENT\"]"
   ]
  },
  {
   "cell_type": "code",
   "execution_count": 3,
   "id": "60b0b72f",
   "metadata": {},
   "outputs": [
    {
     "name": "stderr",
     "output_type": "stream",
     "text": [
      "C:\\Users\\DELL\\AppData\\Local\\Temp\\ipykernel_8868\\1964516553.py:11: MatplotlibDeprecationWarning: The 'labels' parameter of boxplot() has been renamed 'tick_labels' since Matplotlib 3.9; support for the old name will be dropped in 3.11.\n",
      "  plt.boxplot(groups, labels=categories, showfliers=False, medianprops=medianprops,\n"
     ]
    },
    {
     "data": {
      "image/png": "[encoded data removed]",
      "text/plain": [
       "<Figure size 640x480 with 1 Axes>"
      ]
     },
     "metadata": {},
     "output_type": "display_data"
    }
   ],
   "source": [
    "categories = sub_sample[X].unique()\n",
    "groups = []\n",
    "for m in categories:\n",
    "    groups.append(sub_sample[sub_sample[X]==m][Y])\n",
    "    \n",
    "# Graph properties (not very important)    \n",
    "medianprops = {'color':\"black\"}\n",
    "meanprops = {'marker':'o', 'markeredgecolor':'black',\n",
    "            'markerfacecolor':'firebrick'}\n",
    "            \n",
    "plt.boxplot(groups, labels=categories, showfliers=False, medianprops=medianprops, \n",
    "            vert=False, patch_artist=True, showmeans=True, meanprops=meanprops)\n",
    "plt.show()"
   ]
  },
  {
   "cell_type": "code",
   "execution_count": 4,
   "id": "a79f27e2",
   "metadata": {},
   "outputs": [
    {
     "data": {
      "text/plain": [
       "np.float64(0.39841890401094926)"
      ]
     },
     "execution_count": 4,
     "metadata": {},
     "output_type": "execute_result"
    }
   ],
   "source": [
    "X = \"categ\" # qualitative\n",
    "Y = \"amount\" # quantitative\n",
    "\n",
    "sub_sample = data[data[\"amount\"] < 0] # Only expenses are retained \n",
    "\n",
    "def eta_squared(x,y):\n",
    "    mean_y = y.mean()\n",
    "    categories = []\n",
    "    for category in x.unique():\n",
    "        yi_category = y[x==category]\n",
    "        categories.append({'ni': len(yi_category),\n",
    "                        'mean_category': yi_category.mean()})\n",
    "    TSS = sum([(yj-mean_y)**2 for yj in y])\n",
    "    ESS = sum([c['ni']*(c['mean_category']-mean_y)**2 for c in categories])\n",
    "    return ESS/TSS\n",
    " \n",
    "eta_squared(sub_sample[X],sub_sample[Y])"
   ]
  },
  {
   "cell_type": "code",
   "execution_count": 5,
   "id": "880873c4",
   "metadata": {},
   "outputs": [
    {
     "data": {
      "text/plain": [
       "np.float64(0.39841890401094926)"
      ]
     },
     "execution_count": 5,
     "metadata": {},
     "output_type": "execute_result"
    }
   ],
   "source": [
    "X = \"categ\" # qualitative\n",
    "Y = \"amount\" # quantitative\n",
    "\n",
    "sub_sample = data[data[\"amount\"] < 0] # Only expenses are retained \n",
    "\n",
    "def eta_squared(x,y):\n",
    "    mean_y = y.mean()\n",
    "    categories = []\n",
    "    for category in x.unique():\n",
    "        yi_category = y[x==category]\n",
    "        categories.append({'ni': len(yi_category),\n",
    "                        'mean_category': yi_category.mean()})\n",
    "    TSS = sum([(yj-mean_y)**2 for yj in y])\n",
    "    ESS = sum([c['ni']*(c['mean_category']-mean_y)**2 for c in categories])\n",
    "    return ESS/TSS\n",
    " \n",
    "eta_squared(sub_sample[X],sub_sample[Y])"
   ]
  }
 ],
 "metadata": {
  "kernelspec": {
   "display_name": "Python 3",
   "language": "python",
   "name": "python3"
  },
  "language_info": {
   "codemirror_mode": {
    "name": "ipython",
    "version": 3
   },
   "file_extension": ".py",
   "mimetype": "text/x-python",
   "name": "python",
   "nbconvert_exporter": "python",
   "pygments_lexer": "ipython3",
   "version": "3.13.2"
  }
 },
 "nbformat": 4,
 "nbformat_minor": 5
}
