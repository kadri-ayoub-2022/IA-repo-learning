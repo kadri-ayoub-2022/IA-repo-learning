{
 "cells": [
  {
   "cell_type": "markdown",
   "id": "8fe83c05",
   "metadata": {},
   "source": [
    "#  var = wait + amount transaction"
   ]
  },
  {
   "cell_type": "code",
   "execution_count": 9,
   "id": "64989170",
   "metadata": {},
   "outputs": [],
   "source": [
    "import pandas as pd\n",
    "import matplotlib.pyplot as plt\n",
    "import numpy as np\n",
    "\n",
    "data = pd.read_csv(\"operations.csv\",parse_dates=[0])"
   ]
  },
  {
   "cell_type": "markdown",
   "id": "0a70a158",
   "metadata": {},
   "source": [
    "# calculate the wait variable!"
   ]
  },
  {
   "cell_type": "code",
   "execution_count": 3,
   "id": "490a9213",
   "metadata": {},
   "outputs": [],
   "source": [
    "import datetime as dt\n",
    "\n",
    "# Sub-sample is selected\n",
    "groceries = data[data.categ == \"GROCERIES\"]\n",
    "\n",
    "# Transactions are sorted by date\n",
    "groceries = groceries.sort_values(\"transaction_date\")\n",
    "\n",
    "# Expenses are converted to positive amounts\n",
    "groceries[\"amount\"] = -groceries[\"amount\"]\n",
    "\n",
    "# Wait variable is calculated \n",
    "r = []\n",
    "last_date = dt.datetime.now()\n",
    "for i,row in groceries.iterrows():\n",
    "    days = (row[\"transaction_date\"]-last_date).days\n",
    "    if days == 0:\n",
    "        r.append(r[-1])\n",
    "    else:\n",
    "        r.append(days)\n",
    "    last_date = row[\"transaction_date\"]\n",
    "groceries[\"wait\"] = r\n",
    "groceries = groceries.iloc[1:,]\n",
    "\n",
    "# transactions made on the same date are grouped together\n",
    "# (groceries bought the same day but in 2 different stores)\n",
    "a = groceries.groupby(\"transaction_date\")[\"amount\"].sum()\n",
    "b = groceries.groupby(\"transaction_date\")[\"wait\"].first()\n",
    "groceries = pd.DataFrame([a for a in zip(a,b)])\n",
    "groceries.columns = [\"amount\",\"wait\"]"
   ]
  },
  {
   "cell_type": "code",
   "execution_count": 7,
   "id": "bbb3bd30",
   "metadata": {},
   "outputs": [],
   "source": [
    "import statsmodels.api as sm\n",
    "\n",
    "Y = groceries['amount']\n",
    "X = groceries[['wait']]\n",
    "X = X.copy() # X will be modified, so a copy is created\n",
    "X['intercept'] = 1.\n",
    "result = sm.OLS(Y, X).fit() # OLS = Ordinary Least Squares \n",
    "a,b = result.params['wait'],result.params['intercept']"
   ]
  },
  {
   "cell_type": "code",
   "execution_count": 10,
   "id": "502a7117",
   "metadata": {},
   "outputs": [
    {
     "data": {
      "image/png": "[encoded data removed]",
      "text/plain": [
       "<Figure size 640x480 with 1 Axes>"
      ]
     },
     "metadata": {},
     "output_type": "display_data"
    }
   ],
   "source": [
    "plt.plot(groceries.wait,groceries.amount, \"o\")\n",
    "plt.plot(np.arange(15),[a*x+b for x in np.arange(15)])\n",
    "plt.xlabel(\"wait\")\n",
    "plt.ylabel(\"amount\")\n",
    "plt.show()"
   ]
  }
 ],
 "metadata": {
  "kernelspec": {
   "display_name": "Python 3",
   "language": "python",
   "name": "python3"
  },
  "language_info": {
   "codemirror_mode": {
    "name": "ipython",
    "version": 3
   },
   "file_extension": ".py",
   "mimetype": "text/x-python",
   "name": "python",
   "nbconvert_exporter": "python",
   "pygments_lexer": "ipython3",
   "version": "3.13.2"
  }
 },
 "nbformat": 4,
 "nbformat_minor": 5
}
